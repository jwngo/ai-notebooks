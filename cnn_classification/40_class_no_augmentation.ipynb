{
 "cells": [
  {
   "cell_type": "code",
   "execution_count": 4,
   "metadata": {},
   "outputs": [],
   "source": [
    "import numpy as np\n",
    "import os\n",
    "from matplotlib import pyplot as plt\n",
    "import cv2\n",
    "import random\n",
    "import pickle\n",
    "\n",
    "file_list = []\n",
    "class_list = []\n",
    "\n",
    "DATADIR = os.getcwd() + \"/dataset\"\n",
    "\n",
    "CATEGORIES = [str(\"class_\"+str(i)) for i in range(40)] #Simple initial category\n",
    "\n",
    "IMG_SIZE = 50 #\n",
    "\n",
    "for category in CATEGORIES:\n",
    "    path = os.path.join(DATADIR, category)\n",
    "    for img in os.listdir(path):\n",
    "        img_array = cv2.imread(os.path.join(path, img), cv2.IMREAD_GRAYSCALE)\n",
    "\n",
    "        \n",
    " "
   ]
  },
  {
   "cell_type": "code",
   "execution_count": 5,
   "metadata": {},
   "outputs": [],
   "source": [
    "training_data = []\n",
    "\n",
    "def create_training_data(): \n",
    "    for category in CATEGORIES: \n",
    "        path = os.path.join(DATADIR, category)\n",
    "        class_num = CATEGORIES.index(category)\n",
    "        for img in os.listdir(path):\n",
    "            try: \n",
    "                img_array = cv2.imread(os.path.join(path, img), cv2.IMREAD_GRAYSCALE)\n",
    "                new_array = cv2.resize(img_array, (IMG_SIZE, IMG_SIZE))\n",
    "                training_data.append([new_array, class_num])\n",
    "\n",
    "            except Exception as e:\n",
    "                print(e)\n",
    "\n",
    "                \n",
    "create_training_data() \n"
   ]
  },
  {
   "cell_type": "code",
   "execution_count": 6,
   "metadata": {},
   "outputs": [],
   "source": [
    "random.shuffle(training_data)"
   ]
  },
  {
   "cell_type": "code",
   "execution_count": 7,
   "metadata": {},
   "outputs": [],
   "source": [
    "x_train = []\n",
    "y_train = []\n",
    "\n",
    "for features, label in training_data:\n",
    "    x_train.append(features)\n",
    "    y_train.append(label)\n",
    "    \n",
    "x_train = np.array(x_train).reshape(-1, IMG_SIZE,IMG_SIZE, 1) \n",
    "y_train = np.array(y_train)"
   ]
  },
  {
   "cell_type": "code",
   "execution_count": 8,
   "metadata": {},
   "outputs": [],
   "source": [
    "x_train = x_train/255.0 # normalizing\n"
   ]
  },
  {
   "cell_type": "code",
   "execution_count": 9,
   "metadata": {},
   "outputs": [
    {
     "name": "stderr",
     "output_type": "stream",
     "text": [
      "Using TensorFlow backend.\n"
     ]
    },
    {
     "name": "stdout",
     "output_type": "stream",
     "text": [
      "Model: \"sequential\"\n",
      "_________________________________________________________________\n",
      "Layer (type)                 Output Shape              Param #   \n",
      "=================================================================\n",
      "conv2d (Conv2D)              (None, 48, 48, 32)        320       \n",
      "_________________________________________________________________\n",
      "activation (Activation)      (None, 48, 48, 32)        0         \n",
      "_________________________________________________________________\n",
      "max_pooling2d (MaxPooling2D) (None, 24, 24, 32)        0         \n",
      "_________________________________________________________________\n",
      "conv2d_1 (Conv2D)            (None, 22, 22, 64)        18496     \n",
      "_________________________________________________________________\n",
      "activation_1 (Activation)    (None, 22, 22, 64)        0         \n",
      "_________________________________________________________________\n",
      "max_pooling2d_1 (MaxPooling2 (None, 11, 11, 64)        0         \n",
      "_________________________________________________________________\n",
      "conv2d_2 (Conv2D)            (None, 9, 9, 64)          36928     \n",
      "_________________________________________________________________\n",
      "activation_2 (Activation)    (None, 9, 9, 64)          0         \n",
      "_________________________________________________________________\n",
      "max_pooling2d_2 (MaxPooling2 (None, 4, 4, 64)          0         \n",
      "_________________________________________________________________\n",
      "dropout (Dropout)            (None, 4, 4, 64)          0         \n",
      "_________________________________________________________________\n",
      "flatten (Flatten)            (None, 1024)              0         \n",
      "_________________________________________________________________\n",
      "dense (Dense)                (None, 128)               131200    \n",
      "_________________________________________________________________\n",
      "activation_3 (Activation)    (None, 128)               0         \n",
      "_________________________________________________________________\n",
      "dense_1 (Dense)              (None, 128)               16512     \n",
      "_________________________________________________________________\n",
      "activation_4 (Activation)    (None, 128)               0         \n",
      "_________________________________________________________________\n",
      "dense_2 (Dense)              (None, 40)                5160      \n",
      "_________________________________________________________________\n",
      "activation_5 (Activation)    (None, 40)                0         \n",
      "=================================================================\n",
      "Total params: 208,616\n",
      "Trainable params: 208,616\n",
      "Non-trainable params: 0\n",
      "_________________________________________________________________\n"
     ]
    }
   ],
   "source": [
    "import tensorflow as tf \n",
    "from tensorflow.keras.models import Sequential\n",
    "from tensorflow.keras.layers import Dense, Dropout, Activation, Flatten, Conv2D, MaxPooling2D\n",
    "import pickle\n",
    "from keras.models import model_from_json\n",
    "from keras.models import load_model\n",
    "import matplotlib.pyplot as plt\n",
    "\n",
    "\n",
    "model = Sequential() \n",
    "\n",
    "model.add(Conv2D(32, (3,3), input_shape = x_train.shape[1:]))\n",
    "model.add(Activation(\"relu\"))\n",
    "model.add(MaxPooling2D(pool_size=(2,2)))\n",
    "\n",
    "model.add(Conv2D(64, (3, 3)))\n",
    "model.add(Activation(\"relu\"))\n",
    "model.add(MaxPooling2D(pool_size=(2,2)))\n",
    "\n",
    "model.add(Conv2D(64, (3, 3)))\n",
    "model.add(Activation(\"relu\"))\n",
    "model.add(MaxPooling2D(pool_size=(2,2)))\n",
    "model.add(Dropout(0.25))\n",
    "\n",
    "# 2 hidden layers\n",
    "model.add(Flatten())\n",
    "model.add(Dense(128))\n",
    "model.add(Activation(\"relu\"))\n",
    "\n",
    "model.add(Dense(128))\n",
    "model.add(Activation(\"relu\"))\n",
    "\n",
    "# The output layer with 40 neurons, for 40 classes\n",
    "model.add(Dense(40))\n",
    "model.add(Activation(\"softmax\"))\n",
    "\n",
    "# Compiling the model using some basic parameters\n",
    "model.compile(loss=\"sparse_categorical_crossentropy\"\n",
    "              ,optimizer=\"adam\"\n",
    "              ,metrics=[\"accuracy\"])\n",
    "\n",
    "model.summary()"
   ]
  },
  {
   "cell_type": "code",
   "execution_count": 10,
   "metadata": {},
   "outputs": [
    {
     "name": "stdout",
     "output_type": "stream",
     "text": [
      "Train on 3096 samples, validate on 344 samples\n",
      "Epoch 1/40\n",
      "3096/3096 [==============================] - 11s 3ms/sample - loss: 3.4058 - accuracy: 0.0924 - val_loss: 2.6239 - val_accuracy: 0.2587\n",
      "Epoch 2/40\n",
      "3096/3096 [==============================] - 8s 3ms/sample - loss: 1.9541 - accuracy: 0.4293 - val_loss: 1.5846 - val_accuracy: 0.5291\n",
      "Epoch 3/40\n",
      "3096/3096 [==============================] - 7s 2ms/sample - loss: 1.2638 - accuracy: 0.6108 - val_loss: 1.2121 - val_accuracy: 0.6134\n",
      "Epoch 4/40\n",
      "3096/3096 [==============================] - 7s 2ms/sample - loss: 0.8743 - accuracy: 0.7125 - val_loss: 0.9471 - val_accuracy: 0.7035\n",
      "Epoch 5/40\n",
      "3096/3096 [==============================] - 7s 2ms/sample - loss: 0.6991 - accuracy: 0.7668 - val_loss: 0.7123 - val_accuracy: 0.7762\n",
      "Epoch 6/40\n",
      "3096/3096 [==============================] - 7s 2ms/sample - loss: 0.5020 - accuracy: 0.8291 - val_loss: 0.6481 - val_accuracy: 0.8110\n",
      "Epoch 7/40\n",
      "3096/3096 [==============================] - 8s 3ms/sample - loss: 0.4070 - accuracy: 0.8611 - val_loss: 0.6982 - val_accuracy: 0.7849\n",
      "Epoch 8/40\n",
      "3096/3096 [==============================] - 9s 3ms/sample - loss: 0.3483 - accuracy: 0.8808 - val_loss: 0.6069 - val_accuracy: 0.8110\n",
      "Epoch 9/40\n",
      "3096/3096 [==============================] - 9s 3ms/sample - loss: 0.2960 - accuracy: 0.8970 - val_loss: 0.5439 - val_accuracy: 0.7936\n",
      "Epoch 10/40\n",
      "3096/3096 [==============================] - 9s 3ms/sample - loss: 0.2500 - accuracy: 0.9112 - val_loss: 0.5787 - val_accuracy: 0.8401\n",
      "Epoch 11/40\n",
      "3096/3096 [==============================] - 9s 3ms/sample - loss: 0.2472 - accuracy: 0.9086 - val_loss: 0.5722 - val_accuracy: 0.8169\n",
      "Epoch 12/40\n",
      "3096/3096 [==============================] - 9s 3ms/sample - loss: 0.1941 - accuracy: 0.9286 - val_loss: 0.4713 - val_accuracy: 0.8547\n",
      "Epoch 13/40\n",
      "3096/3096 [==============================] - 9s 3ms/sample - loss: 0.1612 - accuracy: 0.9432 - val_loss: 0.5266 - val_accuracy: 0.8256\n",
      "Epoch 14/40\n",
      "3096/3096 [==============================] - 8s 3ms/sample - loss: 0.1704 - accuracy: 0.9425 - val_loss: 0.5641 - val_accuracy: 0.8459\n",
      "Epoch 15/40\n",
      "3096/3096 [==============================] - 8s 3ms/sample - loss: 0.1228 - accuracy: 0.9583 - val_loss: 0.6841 - val_accuracy: 0.8198\n",
      "Epoch 16/40\n",
      "3096/3096 [==============================] - 9s 3ms/sample - loss: 0.1364 - accuracy: 0.9496 - val_loss: 0.5419 - val_accuracy: 0.8517\n",
      "Epoch 17/40\n",
      "3096/3096 [==============================] - 9s 3ms/sample - loss: 0.1068 - accuracy: 0.9648 - val_loss: 0.4914 - val_accuracy: 0.8605\n",
      "Epoch 18/40\n",
      "3096/3096 [==============================] - 7s 2ms/sample - loss: 0.1061 - accuracy: 0.9651 - val_loss: 0.5738 - val_accuracy: 0.8372\n",
      "Epoch 19/40\n",
      "3096/3096 [==============================] - 7s 2ms/sample - loss: 0.1035 - accuracy: 0.9658 - val_loss: 0.6347 - val_accuracy: 0.8459\n",
      "Epoch 20/40\n",
      "3096/3096 [==============================] - 7s 2ms/sample - loss: 0.1132 - accuracy: 0.9599 - val_loss: 0.4657 - val_accuracy: 0.8605\n",
      "Epoch 21/40\n",
      "3096/3096 [==============================] - 7s 2ms/sample - loss: 0.0876 - accuracy: 0.9661 - val_loss: 0.4451 - val_accuracy: 0.8808\n",
      "Epoch 22/40\n",
      "3096/3096 [==============================] - 7s 2ms/sample - loss: 0.0766 - accuracy: 0.9761 - val_loss: 0.6028 - val_accuracy: 0.8372\n",
      "Epoch 23/40\n",
      "3096/3096 [==============================] - 10s 3ms/sample - loss: 0.0782 - accuracy: 0.9725 - val_loss: 0.5174 - val_accuracy: 0.8547\n",
      "Epoch 24/40\n",
      "3096/3096 [==============================] - 10s 3ms/sample - loss: 0.0661 - accuracy: 0.9771 - val_loss: 0.5331 - val_accuracy: 0.8576\n",
      "Epoch 25/40\n",
      "3096/3096 [==============================] - 10s 3ms/sample - loss: 0.0763 - accuracy: 0.9761 - val_loss: 0.9308 - val_accuracy: 0.8081\n",
      "Epoch 26/40\n",
      "3096/3096 [==============================] - 10s 3ms/sample - loss: 0.0941 - accuracy: 0.9648 - val_loss: 0.5672 - val_accuracy: 0.8750\n",
      "Epoch 27/40\n",
      "3096/3096 [==============================] - 10s 3ms/sample - loss: 0.0553 - accuracy: 0.9822 - val_loss: 0.5109 - val_accuracy: 0.8837\n",
      "Epoch 28/40\n",
      "3096/3096 [==============================] - 9s 3ms/sample - loss: 0.0522 - accuracy: 0.9839 - val_loss: 0.5245 - val_accuracy: 0.8605\n",
      "Epoch 29/40\n",
      "3096/3096 [==============================] - 9s 3ms/sample - loss: 0.0612 - accuracy: 0.9784 - val_loss: 0.5790 - val_accuracy: 0.8547\n",
      "Epoch 30/40\n",
      "3096/3096 [==============================] - 9s 3ms/sample - loss: 0.0474 - accuracy: 0.9829 - val_loss: 0.5686 - val_accuracy: 0.8779\n",
      "Epoch 31/40\n",
      "3096/3096 [==============================] - 9s 3ms/sample - loss: 0.0412 - accuracy: 0.9851 - val_loss: 0.5262 - val_accuracy: 0.8750\n",
      "Epoch 32/40\n",
      "3096/3096 [==============================] - 9s 3ms/sample - loss: 0.0355 - accuracy: 0.9880 - val_loss: 0.4878 - val_accuracy: 0.8837\n",
      "Epoch 33/40\n",
      "3096/3096 [==============================] - 8s 3ms/sample - loss: 0.0501 - accuracy: 0.9832 - val_loss: 0.4734 - val_accuracy: 0.8547\n",
      "Epoch 34/40\n",
      "3096/3096 [==============================] - 7s 2ms/sample - loss: 0.0701 - accuracy: 0.9771 - val_loss: 0.6212 - val_accuracy: 0.8401\n",
      "Epoch 35/40\n",
      "3096/3096 [==============================] - 6s 2ms/sample - loss: 0.0461 - accuracy: 0.9848 - val_loss: 0.5282 - val_accuracy: 0.8517\n",
      "Epoch 36/40\n",
      "3096/3096 [==============================] - 6s 2ms/sample - loss: 0.0641 - accuracy: 0.9797 - val_loss: 0.6794 - val_accuracy: 0.8547\n",
      "Epoch 37/40\n",
      "3096/3096 [==============================] - 6s 2ms/sample - loss: 0.0362 - accuracy: 0.9887 - val_loss: 0.5728 - val_accuracy: 0.8576\n",
      "Epoch 38/40\n",
      "3096/3096 [==============================] - 6s 2ms/sample - loss: 0.0372 - accuracy: 0.9877 - val_loss: 0.6880 - val_accuracy: 0.8663\n",
      "Epoch 39/40\n",
      "3096/3096 [==============================] - 9s 3ms/sample - loss: 0.0378 - accuracy: 0.9880 - val_loss: 0.6241 - val_accuracy: 0.8750\n",
      "Epoch 40/40\n",
      "3096/3096 [==============================] - 10s 3ms/sample - loss: 0.0380 - accuracy: 0.9861 - val_loss: 0.7485 - val_accuracy: 0.8517\n"
     ]
    }
   ],
   "source": [
    "history = model.fit(x_train, y_train, batch_size=32, epochs=40, validation_split=0.2)"
   ]
  },
  {
   "cell_type": "code",
   "execution_count": 11,
   "metadata": {},
   "outputs": [
    {
     "data": {
      "image/png": "[encoded data removed]",
      "text/plain": [
       "<Figure size 576x576 with 2 Axes>"
      ]
     },
     "metadata": {
      "needs_background": "light"
     },
     "output_type": "display_data"
    }
   ],
   "source": [
    "epochs = 40\n",
    "acc = history.history['accuracy']\n",
    "val_acc = history.history['val_accuracy']\n",
    "\n",
    "loss = history.history['loss']\n",
    "val_loss = history.history['val_loss']\n",
    "\n",
    "epochs_range = range(epochs)\n",
    "\n",
    "plt.figure(figsize=(8, 8))\n",
    "plt.subplot(1, 2, 1)\n",
    "plt.plot(epochs_range, acc, label='Training Accuracy')\n",
    "plt.plot(epochs_range, val_acc, label='Validation Accuracy')\n",
    "plt.legend(loc='lower right')\n",
    "plt.title('Training and Validation Accuracy')\n",
    "\n",
    "plt.subplot(1, 2, 2)\n",
    "plt.plot(epochs_range, loss, label='Training Loss')\n",
    "plt.plot(epochs_range, val_loss, label='Validation Loss')\n",
    "plt.legend(loc='upper right')\n",
    "plt.title('Training and Validation Loss')\n",
    "plt.show()"
   ]
  },
  {
   "cell_type": "code",
   "execution_count": 12,
   "metadata": {},
   "outputs": [
    {
     "name": "stdout",
     "output_type": "stream",
     "text": [
      "WARNING:tensorflow:From /usr/local/lib/python3.7/site-packages/tensorflow_core/python/ops/resource_variable_ops.py:1781: calling BaseResourceVariable.__init__ (from tensorflow.python.ops.resource_variable_ops) with constraint is deprecated and will be removed in a future version.\n",
      "Instructions for updating:\n",
      "If using Keras pass *_constraint arguments to layers.\n",
      "INFO:tensorflow:Assets written to: saved_models/40_class_no_aug/assets\n"
     ]
    }
   ],
   "source": [
    "model.save('saved_models/40_class_no_aug')"
   ]
  }
 ],
 "metadata": {
  "kernelspec": {
   "display_name": "Python 3",
   "language": "python",
   "name": "python3"
  },
  "language_info": {
   "codemirror_mode": {
    "name": "ipython",
    "version": 3
   },
   "file_extension": ".py",
   "mimetype": "text/x-python",
   "name": "python",
   "nbconvert_exporter": "python",
   "pygments_lexer": "ipython3",
   "version": "3.7.5"
  }
 },
 "nbformat": 4,
 "nbformat_minor": 2
}
